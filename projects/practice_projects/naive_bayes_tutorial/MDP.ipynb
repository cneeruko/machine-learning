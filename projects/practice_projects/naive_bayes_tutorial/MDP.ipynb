{
 "cells": [
  {
   "cell_type": "code",
   "execution_count": 4,
   "metadata": {
    "collapsed": false
   },
   "outputs": [],
   "source": [
    "import numpy as np\n",
    "import operator, math, random, copy, sys"
   ]
  },
  {
   "cell_type": "markdown",
   "metadata": {},
   "source": [
    "Functions :\n",
    "trans:  takes the current matrix which has the states, indices representing the current state, and the action that will do the transition.\n",
    "getListofActions : takes the indices for current location and lists the possible actions that can be taken in that state.\n"
   ]
  },
  {
   "cell_type": "code",
   "execution_count": 18,
   "metadata": {
    "collapsed": false
   },
   "outputs": [],
   "source": [
    "def trans(current,i,j,a):\n",
    "    #print current[i][j]\n",
    "    if current[i][j] == 'F':\n",
    "        return [(1,(i+Action_vectors[a][0],j+Action_vectors[a][1]))]\n",
    "    elif current[i][j] == 'R':\n",
    "        return [(0.99,(i+Action_vectors[a][0],j+Action_vectors[a][1])),(0.01,(-1,-1))]\n",
    "    elif current[i][j] == 'C':\n",
    "        return [(1,(i,j))]\n",
    "    else:\n",
    "        return [(0,(-1,-1))]\n",
    "    \n",
    "\n",
    " \n",
    "        \n",
    "def getListofActions(i,j):\n",
    "    actionlist=[]\n",
    "    for a in Actions:\n",
    "        state1 = (i+Action_vectors[a][0],j+Action_vectors[a][1])\n",
    "        if state1[0] < 4 and state1[1] < 4 and state1[1] > -1 and state1[0]> -1:\n",
    "            actionlist.append(a)\n",
    "            \n",
    "    return actionlist\n",
    "    "
   ]
  },
  {
   "cell_type": "code",
   "execution_count": 20,
   "metadata": {
    "collapsed": false
   },
   "outputs": [
    {
     "name": "stdout",
     "output_type": "stream",
     "text": [
      "1\n",
      "2\n",
      "3\n",
      "4\n",
      "5\n",
      "0.000500000000001\n",
      "[[ 0.10099     1.00999801  0.10099     1.00999801]\n",
      " [ 0.5555      5.5555      0.          0.        ]\n",
      " [ 1.01097713  0.11097713  1.10986736  1.10986736]\n",
      " [ 1.005445    0.0555      0.5555      5.5555    ]]\n",
      "[['E', 'E', 'E', 'E'], ['W', 'W', 'W', 'W'], ['W', 'W', 'W', 'W'], ['W', 'W', 'W', 'W']]\n"
     ]
    }
   ],
   "source": [
    "U= np.zeros((4,4))\n",
    "current= [['F','R','F','R'],\n",
    "        ['F','C','F','F'],\n",
    "        ['R','F','R','R'],\n",
    "        ['R','F','F','C']]\n",
    "types=['F','R','C','B']\n",
    "R={}\n",
    "R['F']=0\n",
    "R['R']=1\n",
    "R['C']=5\n",
    "R['B']=0\n",
    "Gamma= 0.1\n",
    "Actions =[0,1,2,3] #['W' - 0, 'E' -1 ,'S' -2,'N'-3,'R' -4]\n",
    "Action_Literals =['W','E','S','N']\n",
    "Action_vectors =[(-1,0),(1,0),(0,-1),(0,1)]\n",
    "delta=0\n",
    "epsilon=0.0001\n",
    "final_actions= [['W','W','W','W'],\n",
    "        ['N','N','N','N'],\n",
    "        ['S','S','S','S'],\n",
    "        ['E','E','E','E']]\n",
    "\n",
    "\n",
    "k=1\n",
    "Next=copy.deepcopy(current)\n",
    "Udash=copy.deepcopy(U)\n",
    "while True:\n",
    "    print k\n",
    "    k=k+1\n",
    "    delta=0\n",
    "    U= copy.deepcopy(Udash)\n",
    "    current=copy.deepcopy(Next)\n",
    "    #print Udash\n",
    "    for i in range(0,4):\n",
    "        for j in range(0,4):\n",
    "            #print (i,j)\n",
    "            actionlist= getListofActions(i,j)\n",
    "            #print actionlist\n",
    "            for a in actionlist:\n",
    "                bb=[]\n",
    "                total=0\n",
    "                for (p, s1) in trans(current,i,j, a):\n",
    "                    #print (p,s1)\n",
    "                    if(s1[0]>=0):\n",
    "                        total=total+ p * U[s1[0]][s1[1]];\n",
    "                        bb.append(total)\n",
    "                    #else:\n",
    "                        #Next[s1[0]][s1[1]]='B'\n",
    "            #print bb\n",
    "            if bb:\n",
    "                product=max(bb)\n",
    "                #print final_actions\n",
    "                final_actions[i][j]=Action_Literals[actionlist[np.argmax(bb)]]\n",
    "                #print final_actions\n",
    "\n",
    "            else:\n",
    "                product=0\n",
    "            Udash[i][j]= R[current[i][j]] + Gamma * product\n",
    "            delta = max(delta, abs(Udash[i][j] - U[i][j]))  \n",
    "    \n",
    "    if delta < epsilon * (1 - Gamma) / Gamma:\n",
    "        print delta\n",
    "        print Udash\n",
    "        break"
   ]
  }
 ],
 "metadata": {
  "anaconda-cloud": {},
  "kernelspec": {
   "display_name": "Python [conda root]",
   "language": "python",
   "name": "conda-root-py"
  },
  "language_info": {
   "codemirror_mode": {
    "name": "ipython",
    "version": 2
   },
   "file_extension": ".py",
   "mimetype": "text/x-python",
   "name": "python",
   "nbconvert_exporter": "python",
   "pygments_lexer": "ipython2",
   "version": "2.7.12"
  }
 },
 "nbformat": 4,
 "nbformat_minor": 1
}
